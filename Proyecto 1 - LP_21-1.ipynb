{
 "cells": [
  {
   "cell_type": "markdown",
   "metadata": {},
   "source": [
    "# Proyecto 1: El lenguaje BAE (*Boolean Arithmetic Expressions*)\n",
    "\n",
    "## Lenguajes de programación 2021-1\n",
    "\n",
    "### Integrante(s):\n",
    "- <Apellido(s),Nombre(s)>: < correo electrónico >\n",
    "- <Apellido(s),Nombre(s)>: < correo electrónico >"
   ]
  },
  {
   "cell_type": "markdown",
   "metadata": {},
   "source": [
    "## Introducción\n",
    "\n",
    "1. ¿De qué sirve estudiar lenguajes de programación? Casos académicos e industriales.\n",
    "2. ¿Cuál es la estructura de un lenguaje de programación?<br>\n",
    "2.1 Da dos ejemplos de la sintaxis y semántica lenguajes de programación. No debe ser una definición formal.\n",
    "\n",
    "### De lo informal a lo formal\n",
    "3. ¿Cuál es la importancia de la formalidad matemática en lenguajes de programación? Caso de Postfix <br> \n",
    "3.1 Realiza el siguiente ejercicio: Hakerman quiere agregar el operador **empty**. Dicho operador, elimina todos los elementos de una pila no vacía. Por ejemplo, ejecutar programa $(\\mathit{postfix}\\ 2\\ empty)$ con la pila inicial $[e_1,e_2]$ su ejecución devuelve $[]$. Ayuda a Hackerman definiendo lo siguiente: <br>\n",
    "a. Semántica informal de **empty**. <br>\n",
    "b. Sin definir **empty**: ¿Cómo harías un cómputo parecido? Demuestra informalmente que tu estrategia es equivalente al operador **empty**.<br>\n",
    "c. ¿Que problemas habría en la implementación al no tener una definición matemáticamente formal? Explica los problemas de definir, sin uso de una matemática formal, una función llamada *clean* que elimine las secuencias vacías de una secuencia de comandos ejecutables de $\\mathtt{Postfix}$.<br>\n",
    "d. Da la definición formal (usando reglas) de la sintaxis para programas $\\mathtt{Postfix}$. Y define el principio de inducción para los programas $\\mathtt{PostFix}$.<br>\n",
    "e. Define una función llamada *clean* que elimine las secuencias vacías de una secuencia de comandos ejecutables de $\\mathtt{Postfix}$.<br>"
   ]
  },
  {
   "cell_type": "markdown",
   "metadata": {},
   "source": [
    "## El lenguaje *Boolean Arithmetic Expressions* (BAE)\n",
    "\n",
    "### Sintaxis de BAE\n",
    "\n",
    "3. Da una documentación informal de la sintaxis y operadores de BAE.\n",
    "4. Define formalmente (usando sistemas de juicios) la sintaxis de las expresiones ariméticas de BAE. Demuestra las proposiciones 1 y 2 de la nota 4 para la definición anterior.\n",
    "5. Define la sintaxis concreta y abstracta de BAE.<br>\n",
    "**Observaciones:**<br>\n",
    "5.1 Puedes dar la gramática ambigua de BAE, pero deberás de brindar un ejemplo del porque la gramática que brindas es ambigua. <br>\n",
    "5.2 Deberás hacer incapié que análogo a las notas estarás utilizando Árboles de Sintaxis de Orden Superior (ala).\n",
    "6. Define la sustitución y α-equivalencia para BAE. Para introducir la $\\alpha$-equivalencia utiliza la ecuación para mostrar la necesidad de la $\\alpha$-equivalencia: \n",
    "(if (let x = 2 in x+y end) > 4 then 1 else 0)[x:=10,y:=3] <br>\n",
    "Es decir, realiza lo siguiente: <br>\n",
    "6.1 Una vez definida las funciones $\\mathit{fv}$ y la de sustitución, intenta hacer la sustitución sin el mecanismo de $\\alpha$-equivalencia y muestra la parcialidad de la sustitución.<br>\n",
    "6.2 Ya que hayas definido la $\\alpha$-equivalencia muestra que ya puedes realizar la sustitución, es decir, modifica la sustitución para que considere realizar una $\\alpha$-equivalencia en caso de captura de variables libres. <br>\n",
    "6.3 Deberás indicar que tu reporte no cuenta con este mecanismo por su complejidad. \n"
   ]
  },
  {
   "cell_type": "code",
   "execution_count": 16,
   "metadata": {},
   "outputs": [
    {
     "data": {
      "text/plain": [
       "[\"x\"]"
      ]
     },
     "metadata": {},
     "output_type": "display_data"
    }
   ],
   "source": [
    "import Data.List\n",
    "\n",
    "-- | Name. Tipy that represents the name of variables.\n",
    "type Name = String\n",
    "\n",
    "-- | BAE. Tipo that represents the Boolean-Arithmetic expressions.\n",
    "data BAE = V Name \n",
    "        | N Int \n",
    "        | B Bool\n",
    "        | Suc BAE\n",
    "        | Pre BAE\n",
    "        | Plus BAE BAE\n",
    "        | Prod BAE BAE\n",
    "        | Neg BAE\n",
    "        | Conj BAE BAE\n",
    "        | Disy BAE BAE\n",
    "        | Gt BAE BAE\n",
    "        | Lt BAE BAE\n",
    "        | Equi BAE BAE\n",
    "        | Ift BAE BAE BAE\n",
    "        | LetE Name BAE BAE\n",
    "        \n",
    "-- | Sust. Type that represents a substitution over BAE.\n",
    "type Sust = (Name,BAE)\n",
    "        \n",
    "-- | Instance of the Show class for BAE.\n",
    "instance Show BAE where\n",
    "    show = error \"Una forma de verificar un programa de manera automática es a través de Model Cheking. Y consiste en codificar un programa como un sistema de transiciones y verificar propiedades sobre este último sistema.\"\n",
    "\n",
    "-- | fv. Function that returns the free variables of a BAE expression.\n",
    "fv :: BAE -> [Name]\n",
    "fv = error \"El primer nivel de Super Mario Bros. para NES, fue el último en hacerse. Y fue pensado como un tutorial.\"\n",
    "\n",
    "-- substituion. Function that returns the substitution of a BAE expression.\n",
    "substitution :: BAE -> Sust -> BAE\n",
    "substitution = error \"La primera programadora de la historia fue Ada Lovelace.\""
   ]
  },
  {
   "cell_type": "markdown",
   "metadata": {},
   "source": [
    "### Semántica de BAE\n",
    "\n",
    "7. De acuerdo a la semántica informal definida previamente, deberás dar las reglas de la relación de evaluación para BAE. \n",
    "8. Define la cerradura reflexiva-transitiva ($\\to^*$) para la relación anterior e indica como definir la cerradura transitiva ($\\to^+$) sin dar la definición con reglas, es decir, da una ecuación del estilo:<br>\n",
    "$\\to^+ = ??$<br>\n",
    "*Sugerencia*: La cerradura transitiva requiere al menos hacer un paso en la evaluación, de manera que basta con $\\to^*$ y $\\to$.<br>\n",
    "9. Demuestra que $\\to$ es determinista para el caso de BAE. Solamente es necesario hacer de manera explícita los casos: $\\mathtt{plus}$, $\\mathtt{not}$, $<$, la condicional $\\mathtt{if}$ y la sentencia $\\mathtt{let}$, el resto de casos puedes decir que son análogos a los ya presentados.<br>\n",
    "10. Enuncia pero no demuestres que $\\to^*$ es determinista y cumple la propiedad de terminación.<br>\n",
    "*Punto extra* : Brinda una justificación informal del porque es determinista. Se sugiere hacer un diagrama para dar la explicación. "
   ]
  },
  {
   "cell_type": "code",
   "execution_count": 17,
   "metadata": {},
   "outputs": [],
   "source": [
    "-- | eval1. Function that implements a one evaluation-step of a BAE expression.\n",
    "eval1 :: BAE -> BAE\n",
    "eval1 = error \"¿Sabias que de acuerdo a algunos historiadores, Alan Turing era fan de Blancanieves?\"\n",
    "\n",
    "-- | evals. Function that implements the transitive-reflexive closure of the relation of evaluation.\n",
    "evals :: BAE -> BAE\n",
    "evals = error \"Escuchar rolitas chidas es bueno para programar. uwu\""
   ]
  },
  {
   "cell_type": "markdown",
   "metadata": {},
   "source": [
    "### Semántica estática de BAE\n",
    "\n",
    "11. Da las reglas que definen a la semántica estática de BAE. \n",
    "12. Considera el siguiente programa de BAE. <br>\n",
    "$ \\mathtt{(let\\ y\\ =\\ x*3\\ in\\ (let\\ z\\ =\\ y*3\\ in\\ x*y)*2+x\\ end)[x := 6*y+z]}$ Realiza lo siguiente: <br>\n",
    "12.1 Muestra que la expresión es de tipo NAT. 2. Haz la evaluación. Para lograr lo anterior, deberás eliminar la sustitución pero deberás utilizar α- equvialencias.<br> \n",
    "12.2 Muestra que la semántica dinámica y estática de BAE, cumplen la propiedad de Preservación de tipos. Basta hacer los casos para variables, los operadores suma, la expresión let y el condicional if.<br>"
   ]
  },
  {
   "cell_type": "code",
   "execution_count": null,
   "metadata": {},
   "outputs": [],
   "source": [
    "-- | Type. Type that represents the types of BAE expressions.\n",
    "data Type = NAT | BOOL deriving(Show,Eq)\n",
    "\n",
    "-- | vt. Function that verifies the type over a BAE expression.\n",
    "vt :: Ctx -> BAE -> Type -> Bool\n",
    "vt = error (\"El primer 'hola mundo' es incierto. Pero se tiene la creencia \"++\n",
    "            \"que la primera referencia bibliográfica data de 1978, en el libro 'C programming language' por Brian Kernighan\")"
   ]
  },
  {
   "cell_type": "markdown",
   "metadata": {},
   "source": [
    "### Programa anexo\n",
    "12.3 Utilizando las funciones anteriores, define los siguientes programas BAE y muestra su evaluación (a mano).:<br>\n",
    "< Programa1 > - Propuesta de Rafa<br>\n",
    "< Programa2 > - Propuesta de Rafa<br>\n",
    "< Programa3 > - Propuesta de Emiliano<br>\n",
    "< Programa4 > - Propuesta de Emiliano<br>\n",
    "\n",
    "A parte, muestra que tu programa evalua de manera correcta los programas."
   ]
  },
  {
   "cell_type": "code",
   "execution_count": null,
   "metadata": {},
   "outputs": [],
   "source": [
    "-- eval. Function that evaluates a BAE expression iff is well-typed and does not have locked states.\n",
    "eval :: BAE -> Type -> BAE\n",
    "eval = error \"It's dangerous go alone! Take this. - The legend of Zelda\"\n",
    "\n",
    "-- Definir los programas 1,2,3 y 4, y mostrar su evaluación hecha por Haskell"
   ]
  },
  {
   "cell_type": "markdown",
   "metadata": {},
   "source": [
    "### Conclusiones\n",
    "12.4 Concluye el proyecto, tendrás que dar una conclusión breve que involucre a la teoría e implementación. "
   ]
  }
 ],
 "metadata": {
  "kernelspec": {
   "display_name": "Haskell",
   "language": "haskell",
   "name": "haskell"
  },
  "language_info": {
   "codemirror_mode": "ihaskell",
   "file_extension": ".hs",
   "mimetype": "text/x-haskell",
   "name": "haskell",
   "pygments_lexer": "Haskell",
   "version": "8.6.5"
  }
 },
 "nbformat": 4,
 "nbformat_minor": 4
}
